{
 "cells": [
  {
   "cell_type": "code",
   "execution_count": 1,
   "id": "aa09bc43-3dea-4b35-86ca-5ed60d184cdc",
   "metadata": {},
   "outputs": [],
   "source": [
    "# Notebook para carregar os dados gold e gerar as respostas\n",
    "from src.session import SparkSessionBuilder\n",
    "from pyspark.sql.functions import col, avg\n",
    "\n",
    "spark = SparkSessionBuilder(\"analysis\").get_or_create()"
   ]
  },
  {
   "cell_type": "code",
   "execution_count": 2,
   "id": "5a132d9b-59ab-4be8-a0a8-d33800e0cda6",
   "metadata": {},
   "outputs": [
    {
     "name": "stdout",
     "output_type": "stream",
     "text": [
      "Média total por mês\n",
      "+------+----+---+------------------+\n",
      "|  tipo| ano|mes|media_total_amount|\n",
      "+------+----+---+------------------+\n",
      "|yellow|2023|  1| 27.02038310708492|\n",
      "|yellow|2023|  2|26.898484499532195|\n",
      "|yellow|2023|  3|27.803426281277332|\n",
      "|yellow|2023|  4|28.269516727673878|\n",
      "|yellow|2023|  5|28.962981777556617|\n",
      "+------+----+---+------------------+\n",
      "\n",
      "Resposta 2 - Média mensal do valor total recebido pelos táxis amarelos (yellow):\n",
      "+------+----+---+------------------+\n",
      "|  tipo| ano|mes|media_total_amount|\n",
      "+------+----+---+------------------+\n",
      "|yellow|2023|  1| 27.02038310708492|\n",
      "|yellow|2023|  2|26.898484499532195|\n",
      "|yellow|2023|  3|27.803426281277332|\n",
      "|yellow|2023|  4|28.269516727673878|\n",
      "|yellow|2023|  5|28.962981777556617|\n",
      "+------+----+---+------------------+\n",
      "\n",
      "Média de passageiros por hora no mês de maio (todos os táxis):\n",
      "+----+-----------------------+\n",
      "|hora|media_passageiros_geral|\n",
      "+----+-----------------------+\n",
      "|   0|     1.3899450517779355|\n",
      "|   1|     1.3711499053373823|\n",
      "|   2|     1.4061087326393449|\n",
      "|   3|      1.374362300119558|\n",
      "|   4|     1.3586703324021332|\n",
      "|   5|     1.2670867865977884|\n",
      "|   6|     1.2478616288693627|\n",
      "|   7|     1.2511477012698442|\n",
      "|   8|     1.2359326420969734|\n",
      "|   9|     1.2677839305046765|\n",
      "|  10|     1.2947158216163013|\n",
      "|  11|     1.3211383347985381|\n",
      "|  12|     1.3176430474907341|\n",
      "|  13|     1.3004600546286853|\n",
      "|  14|      1.312116761588078|\n",
      "|  15|     1.3156856036829767|\n",
      "|  16|     1.3112196952054034|\n",
      "|  17|      1.302362358598062|\n",
      "|  18|     1.3067621730861911|\n",
      "|  19|     1.3137160777070234|\n",
      "+----+-----------------------+\n",
      "only showing top 20 rows\n",
      "\n"
     ]
    }
   ],
   "source": [
    "base_path = \"/app/stream_data/checkpoints/ifood/gold/\"\n",
    "\n",
    "# Carrega todas as tabelas para todos os tipos\n",
    "media_total = spark.read.parquet(f\"{base_path}/media_total_amount_mensal\")\n",
    "media_passageiros = spark.read.parquet(f\"{base_path}/media_passageiros_hora\")\n",
    "\n",
    "#Resposta 2\n",
    "print(\"Média mensal do valor total recebido pelos táxis amarelos (yellow):\")\n",
    "media_total.filter(col(\"tipo\") == \"yellow\") \\\n",
    "    .orderBy(\"ano\", \"mes\") \\\n",
    "    .show()\n",
    "\n",
    "#Resposta 3\n",
    "print(\"Média de passageiros por hora no mês de maio (todos os táxis):\")\n",
    "media_passageiros.filter(col(\"mes\") == 5) \\\n",
    "    .groupBy(\"hora\") \\\n",
    "    .agg(avg(\"media_passageiros\").alias(\"media_passageiros_geral\")) \\\n",
    "    .orderBy(\"hora\") \\\n",
    "    .show()"
   ]
  },
  {
   "cell_type": "code",
   "execution_count": null,
   "id": "396ed4b5-a903-44d6-b0ec-6a85c7338015",
   "metadata": {},
   "outputs": [],
   "source": []
  }
 ],
 "metadata": {
  "kernelspec": {
   "display_name": "Python 3 (ipykernel)",
   "language": "python",
   "name": "python3"
  },
  "language_info": {
   "codemirror_mode": {
    "name": "ipython",
    "version": 3
   },
   "file_extension": ".py",
   "mimetype": "text/x-python",
   "name": "python",
   "nbconvert_exporter": "python",
   "pygments_lexer": "ipython3",
   "version": "3.11.6"
  }
 },
 "nbformat": 4,
 "nbformat_minor": 5
}
